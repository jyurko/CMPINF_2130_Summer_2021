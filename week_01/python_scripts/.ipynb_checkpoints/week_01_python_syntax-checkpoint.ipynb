{
 "cells": [
  {
   "cell_type": "code",
   "execution_count": 1,
   "id": "ceea91b3",
   "metadata": {},
   "outputs": [],
   "source": [
    "x = 2\n",
    "\n",
    "# this is a comment\n",
    "\n",
    "### this is also a comment"
   ]
  },
  {
   "cell_type": "code",
   "execution_count": 2,
   "id": "c0337137",
   "metadata": {},
   "outputs": [
    {
     "name": "stdout",
     "output_type": "stream",
     "text": [
      "2\n"
     ]
    }
   ],
   "source": [
    "print( x )"
   ]
  },
  {
   "cell_type": "code",
   "execution_count": 3,
   "id": "e9b59e70",
   "metadata": {},
   "outputs": [
    {
     "data": {
      "text/plain": [
       "2"
      ]
     },
     "execution_count": 3,
     "metadata": {},
     "output_type": "execute_result"
    }
   ],
   "source": [
    "x"
   ]
  },
  {
   "cell_type": "code",
   "execution_count": 4,
   "id": "0f1a1966",
   "metadata": {},
   "outputs": [
    {
     "ename": "AttributeError",
     "evalue": "'int' object has no attribute 'int'",
     "output_type": "error",
     "traceback": [
      "\u001b[1;31m---------------------------------------------------------------------------\u001b[0m",
      "\u001b[1;31mAttributeError\u001b[0m                            Traceback (most recent call last)",
      "\u001b[1;32m<ipython-input-4-1074fb4ebd78>\u001b[0m in \u001b[0;36m<module>\u001b[1;34m\u001b[0m\n\u001b[1;32m----> 1\u001b[1;33m \u001b[0mx\u001b[0m\u001b[1;33m.\u001b[0m\u001b[0mint\u001b[0m \u001b[1;33m=\u001b[0m \u001b[1;36m2.1\u001b[0m\u001b[1;33m\u001b[0m\u001b[1;33m\u001b[0m\u001b[0m\n\u001b[0m",
      "\u001b[1;31mAttributeError\u001b[0m: 'int' object has no attribute 'int'"
     ]
    }
   ],
   "source": [
    "x.int = 2.1 # python thinks this is accessing an attribute"
   ]
  },
  {
   "cell_type": "code",
   "execution_count": 5,
   "id": "28bfbe30",
   "metadata": {},
   "outputs": [],
   "source": [
    "# x.int() python would think this is a method of the object"
   ]
  },
  {
   "cell_type": "code",
   "execution_count": 6,
   "id": "a1847f8a",
   "metadata": {},
   "outputs": [],
   "source": [
    "x_1 = 2"
   ]
  },
  {
   "cell_type": "code",
   "execution_count": 7,
   "id": "cc77d868",
   "metadata": {},
   "outputs": [
    {
     "name": "stdout",
     "output_type": "stream",
     "text": [
      "2\n"
     ]
    }
   ],
   "source": [
    "print( x_1 )"
   ]
  },
  {
   "cell_type": "code",
   "execution_count": 8,
   "id": "557f3774",
   "metadata": {},
   "outputs": [],
   "source": [
    "X = 3"
   ]
  },
  {
   "cell_type": "code",
   "execution_count": 9,
   "id": "c0450ac3",
   "metadata": {},
   "outputs": [
    {
     "data": {
      "text/plain": [
       "False"
      ]
     },
     "execution_count": 9,
     "metadata": {},
     "output_type": "execute_result"
    }
   ],
   "source": [
    "x == X"
   ]
  },
  {
   "cell_type": "code",
   "execution_count": 10,
   "id": "599afa23",
   "metadata": {},
   "outputs": [
    {
     "name": "stdout",
     "output_type": "stream",
     "text": [
      "Here is a short sentence.\n"
     ]
    }
   ],
   "source": [
    "### Python has strings\n",
    "\n",
    "x_string = \"yes\"\n",
    "\n",
    "var_string = 'no'\n",
    "\n",
    "long_string = \"Here is a short sentence.\"\n",
    "\n",
    "print( long_string )"
   ]
  },
  {
   "cell_type": "code",
   "execution_count": 11,
   "id": "9101b4f2",
   "metadata": {},
   "outputs": [
    {
     "data": {
      "text/plain": [
       "'Here is a short sentence.'"
      ]
     },
     "execution_count": 11,
     "metadata": {},
     "output_type": "execute_result"
    }
   ],
   "source": [
    "long_string"
   ]
  },
  {
   "cell_type": "code",
   "execution_count": 12,
   "id": "2e2d95c5",
   "metadata": {},
   "outputs": [],
   "source": [
    "x_bool = True\n",
    "\n",
    "x_false_bool = False"
   ]
  },
  {
   "cell_type": "code",
   "execution_count": 13,
   "id": "115765c4",
   "metadata": {},
   "outputs": [
    {
     "name": "stdout",
     "output_type": "stream",
     "text": [
      "<class 'int'>\n",
      "<class 'str'>\n",
      "<class 'bool'>\n"
     ]
    }
   ],
   "source": [
    "### the type() function tells us the data type in Python\n",
    "\n",
    "print( type(x) )\n",
    "\n",
    "print( type(x_string) )\n",
    "\n",
    "print( type(x_bool) )"
   ]
  },
  {
   "cell_type": "code",
   "execution_count": 14,
   "id": "e00e0e42",
   "metadata": {},
   "outputs": [
    {
     "data": {
      "text/plain": [
       "25"
      ]
     },
     "execution_count": 14,
     "metadata": {},
     "output_type": "execute_result"
    }
   ],
   "source": [
    "### the length of a string in Python\n",
    "len(long_string)"
   ]
  },
  {
   "cell_type": "code",
   "execution_count": 15,
   "id": "a7d61930",
   "metadata": {},
   "outputs": [
    {
     "data": {
      "text/plain": [
       "'H'"
      ]
     },
     "execution_count": 15,
     "metadata": {},
     "output_type": "execute_result"
    }
   ],
   "source": [
    "long_string[0] # python is zero index based"
   ]
  },
  {
   "cell_type": "code",
   "execution_count": 16,
   "id": "e1ff7af8",
   "metadata": {},
   "outputs": [
    {
     "data": {
      "text/plain": [
       "'e'"
      ]
     },
     "execution_count": 16,
     "metadata": {},
     "output_type": "execute_result"
    }
   ],
   "source": [
    "long_string[1]"
   ]
  },
  {
   "cell_type": "code",
   "execution_count": 17,
   "id": "b8ec7e0e",
   "metadata": {},
   "outputs": [
    {
     "data": {
      "text/plain": [
       "'Here'"
      ]
     },
     "execution_count": 17,
     "metadata": {},
     "output_type": "execute_result"
    }
   ],
   "source": [
    "long_string[:4]"
   ]
  },
  {
   "cell_type": "code",
   "execution_count": 18,
   "id": "25c2bbb2",
   "metadata": {},
   "outputs": [],
   "source": [
    "### a list of str\n",
    "char_list = ['yes', 'no', 'maybe', \"short phrase\"]"
   ]
  },
  {
   "cell_type": "code",
   "execution_count": 19,
   "id": "ffa48969",
   "metadata": {},
   "outputs": [
    {
     "data": {
      "text/plain": [
       "['yes', 'no', 'maybe', 'short phrase']"
      ]
     },
     "execution_count": 19,
     "metadata": {},
     "output_type": "execute_result"
    }
   ],
   "source": [
    "char_list"
   ]
  },
  {
   "cell_type": "code",
   "execution_count": 20,
   "id": "021ea472",
   "metadata": {},
   "outputs": [],
   "source": [
    "another_list = [1, 'two', 3.0, 'the number four']"
   ]
  },
  {
   "cell_type": "code",
   "execution_count": 21,
   "id": "ad5c472f",
   "metadata": {},
   "outputs": [
    {
     "data": {
      "text/plain": [
       "[1, 'two', 3.0, 'the number four']"
      ]
     },
     "execution_count": 21,
     "metadata": {},
     "output_type": "execute_result"
    }
   ],
   "source": [
    "another_list"
   ]
  },
  {
   "cell_type": "code",
   "execution_count": 22,
   "id": "d7fff399",
   "metadata": {},
   "outputs": [
    {
     "name": "stdout",
     "output_type": "stream",
     "text": [
      "[1, 'two', 3.0, 'the number four']\n"
     ]
    }
   ],
   "source": [
    "print( another_list )"
   ]
  },
  {
   "cell_type": "code",
   "execution_count": 23,
   "id": "dbc451c8",
   "metadata": {},
   "outputs": [
    {
     "name": "stdout",
     "output_type": "stream",
     "text": [
      "yes\n",
      "no\n",
      "maybe\n",
      "short phrase\n"
     ]
    }
   ],
   "source": [
    "for element in char_list:\n",
    "    print( element )"
   ]
  },
  {
   "cell_type": "code",
   "execution_count": 24,
   "id": "1b4f23d1",
   "metadata": {},
   "outputs": [
    {
     "data": {
      "text/plain": [
       "4"
      ]
     },
     "execution_count": 24,
     "metadata": {},
     "output_type": "execute_result"
    }
   ],
   "source": [
    "len( char_list )"
   ]
  },
  {
   "cell_type": "code",
   "execution_count": 25,
   "id": "e7d7a0a6",
   "metadata": {},
   "outputs": [
    {
     "name": "stdout",
     "output_type": "stream",
     "text": [
      "3\n",
      "2\n",
      "5\n",
      "12\n"
     ]
    }
   ],
   "source": [
    "for a_str in char_list:\n",
    "    print( len(a_str) )"
   ]
  },
  {
   "cell_type": "code",
   "execution_count": 26,
   "id": "5733928b",
   "metadata": {},
   "outputs": [
    {
     "data": {
      "text/plain": [
       "[3, 2, 5, 12]"
      ]
     },
     "execution_count": 26,
     "metadata": {},
     "output_type": "execute_result"
    }
   ],
   "source": [
    "### list comprehensions\n",
    "\n",
    "[len(a_str) for a_str in char_list]"
   ]
  },
  {
   "cell_type": "code",
   "execution_count": 27,
   "id": "d2b0bb39",
   "metadata": {},
   "outputs": [],
   "source": [
    "### in Python if we want a name or a KEY associated with a VALUE\n",
    "### what kind of data type would we use???"
   ]
  },
  {
   "cell_type": "markdown",
   "id": "2b465191",
   "metadata": {},
   "source": [
    "This is a markdown cell. The text will be rendered to look like Microsoft Word text."
   ]
  },
  {
   "cell_type": "code",
   "execution_count": null,
   "id": "a45e4d55",
   "metadata": {},
   "outputs": [],
   "source": []
  }
 ],
 "metadata": {
  "kernelspec": {
   "display_name": "Python 3",
   "language": "python",
   "name": "python3"
  },
  "language_info": {
   "codemirror_mode": {
    "name": "ipython",
    "version": 3
   },
   "file_extension": ".py",
   "mimetype": "text/x-python",
   "name": "python",
   "nbconvert_exporter": "python",
   "pygments_lexer": "ipython3",
   "version": "3.8.8"
  }
 },
 "nbformat": 4,
 "nbformat_minor": 5
}
